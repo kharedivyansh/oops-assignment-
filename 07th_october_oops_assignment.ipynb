{
 "cells": [
  {
   "cell_type": "markdown",
   "id": "7d0ff157",
   "metadata": {},
   "source": [
    "Problem 1: Bank Account Create a class representing a bank account with attributes like account number, account holder name, and balance. Implement methods to deposit and withdraw money from the account."
   ]
  },
  {
   "cell_type": "code",
   "execution_count": 36,
   "id": "17c4fe6d",
   "metadata": {},
   "outputs": [],
   "source": [
    "class Bank_account:\n",
    "    def __init__(self, accno, name, balance):\n",
    "        self.account_number = accno\n",
    "        self.account_holder_name = name\n",
    "        self.holder_balance = balance\n",
    "\n",
    "    def accountnumber(self):\n",
    "        print(self.account_number)\n",
    "\n",
    "    def accountholdername(self):\n",
    "        print(self.account_holder_name)\n",
    "\n",
    "    def account_balance(self):\n",
    "        print(self.holder_balance)\n",
    "\n",
    "    def deposit_money(self):\n",
    "        money = int(input(\"Enter the amount of money you want to deposit: \"))\n",
    "        print(\"You have deposited:\", money)\n",
    "        self.holder_balance = self.holder_balance + money\n",
    "        print(\"Your balance is:\", self.holder_balance)\n",
    "\n",
    "    def withdraw_money(self):\n",
    "        if self.holder_balance <= 100:\n",
    "            print(\"Insufficient balance\")\n",
    "        else:\n",
    "            withdraw_money = int(input(\"Enter the amount you want to withdraw from the bank: \"))\n",
    "            if withdraw_money <= self.holder_balance:\n",
    "                self.holder_balance = self.holder_balance - withdraw_money\n",
    "                print(\"Your balance is:\", self.holder_balance)\n",
    "            else:\n",
    "                print(\"Withdrawal amount exceeds your balance.\")\n",
    "            \n",
    "        \n",
    "        \n",
    "    \n",
    "        "
   ]
  },
  {
   "cell_type": "code",
   "execution_count": 37,
   "id": "5cac20c3",
   "metadata": {},
   "outputs": [],
   "source": [
    "divyansh = Bank_account(307,\"divyansh\",1600)"
   ]
  },
  {
   "cell_type": "code",
   "execution_count": 38,
   "id": "73f1f3fc",
   "metadata": {},
   "outputs": [
    {
     "name": "stdout",
     "output_type": "stream",
     "text": [
      "1600\n"
     ]
    }
   ],
   "source": [
    "divyansh.account_balance()"
   ]
  },
  {
   "cell_type": "code",
   "execution_count": 40,
   "id": "65238242",
   "metadata": {},
   "outputs": [
    {
     "name": "stdout",
     "output_type": "stream",
     "text": [
      "Enter the amount of money you want to deposit: 400\n",
      "You have deposited: 400\n",
      "Your balance is: 2000\n"
     ]
    }
   ],
   "source": [
    "divyansh.deposit_money()"
   ]
  },
  {
   "cell_type": "code",
   "execution_count": 41,
   "id": "97bf7524",
   "metadata": {},
   "outputs": [
    {
     "name": "stdout",
     "output_type": "stream",
     "text": [
      "Enter the amount you want to withdraw from the bank: 500\n",
      "Your balance is: 1500\n"
     ]
    }
   ],
   "source": [
    "divyansh.withdraw_money()"
   ]
  },
  {
   "cell_type": "markdown",
   "id": "b6202d91",
   "metadata": {},
   "source": [
    "Problem 2: Employee Management Create a class representing an employee with attributes like employee ID, name, and salary. Implement methods to calculate the yearly bonus and display employee details"
   ]
  },
  {
   "cell_type": "code",
   "execution_count": 6,
   "id": "ed0c1af9",
   "metadata": {},
   "outputs": [],
   "source": [
    "class Employee:\n",
    "    def __init__(self, employee_id, employee_name, employee_salary):\n",
    "        self.emp_id = employee_id\n",
    "        self.name = employee_name\n",
    "        self.salary = employee_salary\n",
    "\n",
    "    def empid(self):\n",
    "        print(self.emp_id)\n",
    "\n",
    "    def empname(self):\n",
    "        print(self.name)\n",
    "\n",
    "    def empsalary(self):\n",
    "        print(self.salary)\n",
    "\n",
    "    def calculate_bonus(self, bonus_percentage):\n",
    "        if bonus_percentage < 0:\n",
    "            print(\"Invalid bonus percentage. It should be non-negative.\")\n",
    "        else:\n",
    "            bonus = (bonus_percentage / 100) * self.salary\n",
    "            print(f\"Congratulations! Your yearly bonus is {bonus_percentage}%.\")\n",
    "            print(f\"Total salary after bonus: {self.salary + bonus:.2f}\")\n",
    "    \n",
    "    \n",
    "        \n",
    "        "
   ]
  },
  {
   "cell_type": "code",
   "execution_count": 7,
   "id": "92b10086",
   "metadata": {},
   "outputs": [],
   "source": [
    "harsh = Employee(123,\"harsh\",50000)"
   ]
  },
  {
   "cell_type": "code",
   "execution_count": 8,
   "id": "f402253a",
   "metadata": {},
   "outputs": [
    {
     "name": "stdout",
     "output_type": "stream",
     "text": [
      "123\n"
     ]
    }
   ],
   "source": [
    "harsh.empid()"
   ]
  },
  {
   "cell_type": "code",
   "execution_count": 9,
   "id": "f3b59472",
   "metadata": {},
   "outputs": [
    {
     "name": "stdout",
     "output_type": "stream",
     "text": [
      "Congratulations! Your yearly bonus is 15%.\n",
      "Total salary after bonus: 57500.00\n"
     ]
    }
   ],
   "source": [
    "harsh.calculate_bonus(15)"
   ]
  },
  {
   "cell_type": "markdown",
   "id": "7064edfe",
   "metadata": {},
   "source": [
    "Problem 3: Vehicle Rental Create a class representing a vehicle rental system. Implement methods to rent a vehicle, return a vehicle, and display available vehicles."
   ]
  },
  {
   "cell_type": "code",
   "execution_count": 10,
   "id": "26c1a114",
   "metadata": {},
   "outputs": [],
   "source": [
    "class VehicleRentalSystem:\n",
    "    def __init__(self):\n",
    "        self.available_vehicles = {}\n",
    "        self.rented_vehicles = {}\n",
    "\n",
    "    def add_vehicle(self, vehicle_id, vehicle_type):\n",
    "        self.available_vehicles[vehicle_id] = vehicle_type\n",
    "\n",
    "    def rent_vehicle(self, vehicle_id, customer_name):\n",
    "        if vehicle_id in self.available_vehicles:\n",
    "            vehicle_type = self.available_vehicles.pop(vehicle_id)\n",
    "            self.rented_vehicles[vehicle_id] = (vehicle_type, customer_name)\n",
    "            print(f\"{customer_name} has rented {vehicle_type} (ID: {vehicle_id}).\")\n",
    "        else:\n",
    "            print(f\"Vehicle ID {vehicle_id} is not available for rent.\")\n",
    "\n",
    "    def return_vehicle(self, vehicle_id):\n",
    "        if vehicle_id in self.rented_vehicles:\n",
    "            vehicle_type, customer_name = self.rented_vehicles.pop(vehicle_id)\n",
    "            self.available_vehicles[vehicle_id] = vehicle_type\n",
    "            print(f\"{customer_name} has returned {vehicle_type} (ID: {vehicle_id}).\")\n",
    "        else:\n",
    "            print(f\"Vehicle ID {vehicle_id} is not in the rented vehicles list.\")\n",
    "\n",
    "    def display_available_vehicles(self):\n",
    "        print(\"Available Vehicles:\")\n",
    "        for vehicle_id, vehicle_type in self.available_vehicles.items():\n",
    "            print(f\"ID: {vehicle_id}, Type: {vehicle_type}\")\n",
    "\n"
   ]
  },
  {
   "cell_type": "code",
   "execution_count": 11,
   "id": "c52e8d6c",
   "metadata": {},
   "outputs": [],
   "source": [
    "user1 = VehicleRentalSystem()"
   ]
  },
  {
   "cell_type": "code",
   "execution_count": 12,
   "id": "452d134d",
   "metadata": {},
   "outputs": [],
   "source": [
    "user1.add_vehicle(\"V001\", \"Car\")\n",
    "user1.add_vehicle(\"V002\", \"Scooter\")\n",
    "user1.add_vehicle(\"V003\", \"Bike\")\n"
   ]
  },
  {
   "cell_type": "code",
   "execution_count": 14,
   "id": "6c22d48f",
   "metadata": {},
   "outputs": [
    {
     "name": "stdout",
     "output_type": "stream",
     "text": [
      "Available Vehicles:\n",
      "ID: V001, Type: Car\n",
      "ID: V002, Type: Scooter\n",
      "ID: V003, Type: Bike\n",
      "John has rented Car (ID: V001).\n",
      "Alice has rented Scooter (ID: V002).\n",
      "Available Vehicles:\n",
      "ID: V003, Type: Bike\n",
      "John has returned Car (ID: V001).\n",
      "Available Vehicles:\n",
      "ID: V003, Type: Bike\n",
      "ID: V001, Type: Car\n"
     ]
    }
   ],
   "source": [
    "\n",
    "    user1.display_available_vehicles()\n",
    "\n",
    "    user1.rent_vehicle(\"V001\", \"John\")\n",
    "    user1.rent_vehicle(\"V002\", \"Alice\")\n",
    "\n",
    "    user1.display_available_vehicles()\n",
    "\n",
    "    user1.return_vehicle(\"V001\")\n",
    "\n",
    "    user1.display_available_vehicles()"
   ]
  },
  {
   "cell_type": "markdown",
   "id": "345df0d2",
   "metadata": {},
   "source": [
    "Problem 4: Library Catalog Create classes representing a library and a book. Implement methods to add books to the library, borrow books, and display available books"
   ]
  },
  {
   "cell_type": "code",
   "execution_count": 20,
   "id": "e6cd1f84",
   "metadata": {},
   "outputs": [
    {
     "name": "stdout",
     "output_type": "stream",
     "text": [
      "Do you want to add a book? (yes/no): yes\n",
      "Enter the name of the book you want to add: atomic habits\n",
      "Enter the ID of the book: 123\n",
      "Book has been added successfully.\n",
      "Do you want to add a book? (yes/no): yes\n",
      "Enter the name of the book you want to add: subtle art\n",
      "Enter the ID of the book: 456\n",
      "Book has been added successfully.\n",
      "Do you want to add a book? (yes/no): yes\n",
      "Enter the name of the book you want to add: mastering sql\n",
      "Enter the ID of the book: 789\n",
      "Book has been added successfully.\n",
      "Do you want to add a book? (yes/no): no\n",
      "Available books:\n",
      "Name: atomic habits, ID: 123\n",
      "Name: subtle art, ID: 456\n",
      "Name: mastering sql, ID: 789\n",
      "Number of books available:  3\n",
      "Enter the name of the book you want to borrow from the library: atomic habits\n",
      "You have successfully borrowed 'atomic habits'.\n",
      "Available books:\n",
      "Name: subtle art, ID: 456\n",
      "Name: mastering sql, ID: 789\n",
      "Number of books available:  2\n"
     ]
    }
   ],
   "source": [
    "class LibraryCatalog:\n",
    "    def __init__(self):\n",
    "        self.available_books = {}\n",
    "        self.borrowed_books = {}\n",
    "        self.total_books_in_library = 0\n",
    "\n",
    "    def add_book(self):\n",
    "        while True:\n",
    "            ask = input(\"Do you want to add a book? (yes/no): \")\n",
    "            if ask.lower() == \"no\":\n",
    "                break\n",
    "            if ask.lower() == \"yes\":\n",
    "                name = input(\"Enter the name of the book you want to add: \")\n",
    "                book_id = int(input(\"Enter the ID of the book: \"))\n",
    "                print(\"Book has been added successfully.\")\n",
    "                self.available_books[name] = book_id\n",
    "                self.total_books_in_library = len(self.available_books)\n",
    "            else:\n",
    "                print(\"Invalid input. Please enter 'yes' or 'no'.\")\n",
    "\n",
    "    def available_books_list(self):\n",
    "        print(\"Available books:\")\n",
    "        for name, book_id in self.available_books.items():\n",
    "            print(f\"Name: {name}, ID: {book_id}\")\n",
    "        print(\"Number of books available: \", self.total_books_in_library)\n",
    "\n",
    "    def borrow_book(self):\n",
    "        borrow_name = input(\"Enter the name of the book you want to borrow from the library: \")\n",
    "        if borrow_name in self.available_books:\n",
    "            book_id = self.available_books[borrow_name]\n",
    "            self.borrowed_books[borrow_name] = book_id\n",
    "            del self.available_books[borrow_name]\n",
    "            self.total_books_in_library = len(self.available_books)\n",
    "            print(f\"You have successfully borrowed '{borrow_name}'.\")\n",
    "        else:\n",
    "            print(f\"'{borrow_name}' is not available in the library.\")\n",
    "\n",
    "# Example usage:\n",
    "if __name__ == \"__main__\":\n",
    "    catalog = LibraryCatalog()\n",
    "    catalog.add_book()\n",
    "    catalog.available_books_list()\n",
    "    catalog.borrow_book()\n",
    "    catalog.available_books_list()\n",
    "\n",
    "            "
   ]
  },
  {
   "cell_type": "markdown",
   "id": "67bfd7bd",
   "metadata": {},
   "source": [
    "Problem 5: Product Inventory Create classes representing a product and an inventory system. Implement methods to add products to the inventory, update product quantity, and display available products."
   ]
  },
  {
   "cell_type": "code",
   "execution_count": 28,
   "id": "f78fe98b",
   "metadata": {},
   "outputs": [
    {
     "name": "stdout",
     "output_type": "stream",
     "text": [
      "Product ID: 1, Name: Product A, Price: 10.99, Quantity: 50\n",
      "Product ID: 2, Name: Product B, Price: 5.99, Quantity: 30\n",
      "Product ID: 1, Name: Product A, Price: 10.99, Quantity: 40\n",
      "Product ID: 2, Name: Product B, Price: 5.99, Quantity: 25\n"
     ]
    }
   ],
   "source": [
    "class Product:\n",
    "    def __init__(self, product_id, name, price, quantity):\n",
    "        self.product_id = product_id\n",
    "        self.name = name\n",
    "        self.price = price\n",
    "        self.quantity = quantity\n",
    "\n",
    "    def __str__(self):\n",
    "        return f\"Product ID: {self.product_id}, Name: {self.name}, Price: {self.price}, Quantity: {self.quantity}\"\n",
    "\n",
    "class InventorySystem:\n",
    "    def __init__(self):\n",
    "        self.products = {}\n",
    "\n",
    "    def add_product(self, product):\n",
    "        self.products[product.product_id] = product\n",
    "\n",
    "    def update_quantity(self, product_id, new_quantity):\n",
    "        if product_id in self.products:\n",
    "            self.products[product_id].quantity = new_quantity\n",
    "        else:\n",
    "            print(f\"Product with ID {product_id} not found in inventory.\")\n",
    "\n",
    "    def display_available_products(self):\n",
    "        available_products = [product for product in self.products.values() if product.quantity > 0]\n",
    "        if available_products:\n",
    "            for product in available_products:\n",
    "                print(product)\n",
    "        else:\n",
    "            print(\"No available products in the inventory.\")\n",
    "\n",
    "# Example usage:\n",
    "if __name__ == \"__main__\":\n",
    "    inventory = InventorySystem()\n",
    "\n",
    "    product1 = Product(1, \"Product A\", 10.99, 50)\n",
    "    product2 = Product(2, \"Product B\", 5.99, 30)\n",
    "    product3 = Product(3, \"Product C\", 7.49, 0)\n",
    "\n",
    "    inventory.add_product(product1)\n",
    "    inventory.add_product(product2)\n",
    "    inventory.add_product(product3)\n",
    "\n",
    "    inventory.display_available_products()\n",
    "\n",
    "    inventory.update_quantity(1, 40)\n",
    "    inventory.update_quantity(2, 25)\n",
    "\n",
    "    inventory.display_available_products()\n"
   ]
  },
  {
   "cell_type": "markdown",
   "id": "8c607b35",
   "metadata": {},
   "source": [
    "Problem 6: Shape Calculation Create a class representing a shape with attributes like length, width, and height. Implement methods to calculate the area and perimeter of the shape."
   ]
  },
  {
   "cell_type": "code",
   "execution_count": 29,
   "id": "55ca7c2d",
   "metadata": {},
   "outputs": [],
   "source": [
    "class shape:\n",
    "    def __init__(self,length,width,height):\n",
    "        self.length = length\n",
    "        self.width = width\n",
    "        self.height = height\n",
    "        \n",
    "    def area(self):\n",
    "        pass\n",
    "    def perimeter(self):\n",
    "        pass\n",
    "    \n",
    "class rectangle(shape):\n",
    "    def calculate_area(self):\n",
    "        return (self.length)*(self.width)\n",
    "    def calculate_perimeter(self):\n",
    "        return 2 * (self.length + self.width)\n",
    "    \n",
    "class square(shape):\n",
    "    def square_area(self):\n",
    "        return (self.length)*4\n",
    "    def calculate_perimeter(self):\n",
    "        return 4 * (self.length)\n",
    "    \n",
    "class circle(shape):\n",
    "    def __init__(self,radius):\n",
    "        self.radius = radius\n",
    "\n",
    "    def circle_area(self):\n",
    "        return (3.14)*(self.radius)**2\n",
    "\n",
    "    def circle_perimeter(self):\n",
    "        return 2*(3.14)*(self.length)\n",
    "    \n"
   ]
  },
  {
   "cell_type": "code",
   "execution_count": 39,
   "id": "dab99b78",
   "metadata": {},
   "outputs": [],
   "source": [
    "rectangle1 = rectangle(2,3,4)"
   ]
  },
  {
   "cell_type": "code",
   "execution_count": 42,
   "id": "0b030739",
   "metadata": {},
   "outputs": [
    {
     "data": {
      "text/plain": [
       "6"
      ]
     },
     "execution_count": 42,
     "metadata": {},
     "output_type": "execute_result"
    }
   ],
   "source": [
    "rectangle1.calculate_area()\n"
   ]
  },
  {
   "cell_type": "code",
   "execution_count": 43,
   "id": "70c38cf1",
   "metadata": {},
   "outputs": [
    {
     "data": {
      "text/plain": [
       "10"
      ]
     },
     "execution_count": 43,
     "metadata": {},
     "output_type": "execute_result"
    }
   ],
   "source": [
    "rectangle1.calculate_perimeter()"
   ]
  },
  {
   "cell_type": "code",
   "execution_count": 45,
   "id": "800f604e",
   "metadata": {},
   "outputs": [],
   "source": [
    "circle = circle(4)"
   ]
  },
  {
   "cell_type": "code",
   "execution_count": 46,
   "id": "fc4fb545",
   "metadata": {},
   "outputs": [
    {
     "data": {
      "text/plain": [
       "50.24"
      ]
     },
     "execution_count": 46,
     "metadata": {},
     "output_type": "execute_result"
    }
   ],
   "source": [
    "circle.circle_area()"
   ]
  },
  {
   "cell_type": "markdown",
   "id": "d3b82aad",
   "metadata": {},
   "source": [
    "Problem 7: Student Management Create a class representing a student with attributes like student ID, name, and grades. Implement methods to calculate the average grade and display student details."
   ]
  },
  {
   "cell_type": "code",
   "execution_count": 57,
   "id": "f3770fac",
   "metadata": {},
   "outputs": [],
   "source": [
    "class student():\n",
    "    def __init__(self,id,name):\n",
    "        self.student_id = id\n",
    "        self.student_name = name\n",
    "        \n",
    "    def calculate_grade(self):\n",
    "        #we have taken only 3 subjects\n",
    "        a1 = int(input(\"enter the marks obtained in subject1: \"))\n",
    "        b1 = int(input(\"enter the marks obtained in subject2: \"))\n",
    "        c1 = int(input(\"enter the marks obtained in subject3: \"))\n",
    "        avg_grades = (a1+b1+c1)/3\n",
    "        print(\"the average grade is: \",avg_grades)\n",
    "        \n",
    "    def student_details(self):\n",
    "        print(\"the details of students are following: \")\n",
    "        print(f\"the ID of student is {self.student_id}\")\n",
    "        print(f\"the name of student is {self.student_name}\")"
   ]
  },
  {
   "cell_type": "code",
   "execution_count": 58,
   "id": "3647b41c",
   "metadata": {},
   "outputs": [],
   "source": [
    "#for example consider harsh is a student\n",
    "harsh = student(15,\"harsh\")\n"
   ]
  },
  {
   "cell_type": "code",
   "execution_count": 59,
   "id": "36ac9b77",
   "metadata": {},
   "outputs": [
    {
     "name": "stdout",
     "output_type": "stream",
     "text": [
      "the details of students are following: \n",
      "the ID of student is 15\n",
      "the name of student is harsh\n"
     ]
    }
   ],
   "source": [
    "harsh.student_details()"
   ]
  },
  {
   "cell_type": "code",
   "execution_count": 60,
   "id": "76e457a8",
   "metadata": {},
   "outputs": [
    {
     "name": "stdout",
     "output_type": "stream",
     "text": [
      "enter the marks obtained in subject1: 55\n",
      "enter the marks obtained in subject2: 65\n",
      "enter the marks obtained in subject3: 40\n",
      "the average grade is:  53.333333333333336\n"
     ]
    }
   ],
   "source": [
    "harsh.calculate_grade()"
   ]
  },
  {
   "cell_type": "markdown",
   "id": "c7c24c61",
   "metadata": {},
   "source": [
    "Problem 8: Email Management Create a class representing an email with attributes like sender, recipient, and subject. Implement methods to send an email and display email details."
   ]
  },
  {
   "cell_type": "code",
   "execution_count": 62,
   "id": "9d4279ab",
   "metadata": {},
   "outputs": [
    {
     "name": "stdout",
     "output_type": "stream",
     "text": [
      "Sender: user@example.com\n",
      "Recipient: recipient@example.com\n",
      "Subject: Hello\n",
      "Message:\n",
      "This is a test email.\n",
      "Status: Draft\n",
      "\n",
      "After sending the email:\n",
      "Sender: user@example.com\n",
      "Recipient: recipient@example.com\n",
      "Subject: Hello\n",
      "Message:\n",
      "This is a test email.\n",
      "Status: Sent\n"
     ]
    }
   ],
   "source": [
    "class Email:\n",
    "    def __init__(self, sender, recipient, subject, message):\n",
    "        self.sender = sender\n",
    "        self.recipient = recipient\n",
    "        self.subject = subject\n",
    "        self.message = message\n",
    "        self.sent = False  # Initially, the email is not sent\n",
    "\n",
    "    def send_email(self):\n",
    "        # Simulate sending the email (you can customize this method for your needs)\n",
    "        # For this example, we'll just set the 'sent' flag to True\n",
    "        self.sent = True\n",
    "\n",
    "    def display_details(self):\n",
    "        print(\"Sender:\", self.sender)\n",
    "        print(\"Recipient:\", self.recipient)\n",
    "        print(\"Subject:\", self.subject)\n",
    "        print(\"Message:\")\n",
    "        print(self.message)\n",
    "        if self.sent:\n",
    "            print(\"Status: Sent\")\n",
    "        else:\n",
    "            print(\"Status: Draft\")\n",
    "\n",
    "# Example usage:\n",
    "if __name__ == \"__main__\":\n",
    "    sender = \"user@example.com\"\n",
    "    recipient = \"recipient@example.com\"\n",
    "    subject = \"Hello\"\n",
    "    message = \"This is a test email.\"\n",
    "\n",
    "    email = Email(sender, recipient, subject, message)\n",
    "\n",
    "    email.display_details()\n",
    "\n",
    "    # Sending the email\n",
    "    email.send_email()\n",
    "\n",
    "    print(\"\\nAfter sending the email:\")\n",
    "    email.display_details()\n",
    "    "
   ]
  },
  {
   "cell_type": "markdown",
   "id": "6fb2aa26",
   "metadata": {},
   "source": [
    "Problem 9: Social Media Profile Create a class representing a social media profile with attributes like username and posts. Implement methods to add posts, display posts, and search for posts by keyword."
   ]
  },
  {
   "cell_type": "code",
   "execution_count": 6,
   "id": "896334a3",
   "metadata": {},
   "outputs": [],
   "source": [
    "class social_media():\n",
    "    def __init__(self,username):\n",
    "        self.username = username\n",
    "        self.collection = {}\n",
    "        \n",
    "    def add_posts(self):\n",
    "        ask = input(\"do you want to add a post (yes/no): \")\n",
    "        while True:\n",
    "            if(ask == \"yes\"):\n",
    "                title = input(\"enter the title of post: \")\n",
    "                about = input(\"enter details about the post: \")\n",
    "                self.collection[title] = about\n",
    "        \n",
    "            elif(ask == \"no\"):\n",
    "                break\n",
    "                \n",
    "            else:\n",
    "                print(\"enter yes or no only.\")\n",
    "            ask = input(\"do you want to add a post (yes/no): \")\n",
    " \n",
    "    def display_post(self):\n",
    "        print(self.collection)\n",
    "        \n",
    "    def search_post(self):\n",
    "        title1 = input(\"enter title of post you are searching for: \")\n",
    "        print(self.collection[title1])"
   ]
  },
  {
   "cell_type": "code",
   "execution_count": 7,
   "id": "610a4547",
   "metadata": {},
   "outputs": [],
   "source": [
    "obj1 = social_media(\"kharedivyansh\")"
   ]
  },
  {
   "cell_type": "code",
   "execution_count": 8,
   "id": "40681698",
   "metadata": {},
   "outputs": [
    {
     "name": "stdout",
     "output_type": "stream",
     "text": [
      "do you want to add a post (yes/no): yes\n",
      "enter the title of post: birthday bash\n",
      "enter details about the post: how i celebrated my 18th bday\n",
      "do you want to add a post (yes/no): yes\n",
      "enter the title of post: wedding anniversary\n",
      "enter details about the post: my parents 25th wedding anniversary\n",
      "do you want to add a post (yes/no): no\n"
     ]
    }
   ],
   "source": [
    "obj1.add_posts()"
   ]
  },
  {
   "cell_type": "code",
   "execution_count": 9,
   "id": "f60d3485",
   "metadata": {},
   "outputs": [
    {
     "name": "stdout",
     "output_type": "stream",
     "text": [
      "{'birthday bash': 'how i celebrated my 18th bday', 'wedding anniversary': 'my parents 25th wedding anniversary'}\n"
     ]
    }
   ],
   "source": [
    "obj1.display_post()"
   ]
  },
  {
   "cell_type": "code",
   "execution_count": 10,
   "id": "bf261cad",
   "metadata": {},
   "outputs": [
    {
     "name": "stdout",
     "output_type": "stream",
     "text": [
      "enter title of post you are searching for: wedding anniversary\n",
      "my parents 25th wedding anniversary\n"
     ]
    }
   ],
   "source": [
    "obj1.search_post()"
   ]
  },
  {
   "cell_type": "markdown",
   "id": "a442a0dc",
   "metadata": {},
   "source": [
    "Problem 10: ToDo List Create a class representing a ToDo list with attributes like tasks and due dates. Implement methods to add tasks, mark tasks as completed, and display pending tasks."
   ]
  },
  {
   "cell_type": "code",
   "execution_count": 1,
   "id": "b30babed",
   "metadata": {},
   "outputs": [
    {
     "name": "stdout",
     "output_type": "stream",
     "text": [
      "1. Add Task\n",
      "2. Mark Task as Completed\n",
      "3. Display Pending Tasks\n",
      "4. Display Completed Tasks\n",
      "5. Exit\n",
      "Enter your choice: 1\n",
      "Enter the task (or 'exit' to finish): wake up at7\n",
      "Enter the due date: 20/01/21\n",
      "Enter the task (or 'exit' to finish): exit\n",
      "1. Add Task\n",
      "2. Mark Task as Completed\n",
      "3. Display Pending Tasks\n",
      "4. Display Completed Tasks\n",
      "5. Exit\n",
      "Enter your choice: 5\n"
     ]
    }
   ],
   "source": [
    "class TODO:\n",
    "    def __init__(self):\n",
    "        self.tasks = {}  # Use a dictionary to store tasks and due dates\n",
    "        self.completed_tasks = set()  # Use a set to store completed tasks\n",
    "\n",
    "    def add_task(self):\n",
    "        while True:\n",
    "            task = input(\"Enter the task (or 'exit' to finish): \")\n",
    "            if task == 'exit':\n",
    "                break\n",
    "            due_date = input(\"Enter the due date: \")\n",
    "            self.tasks[task] = due_date\n",
    "\n",
    "    def mark_task_as_completed(self):\n",
    "        task_to_mark = input(\"Enter the task you want to mark as completed: \")\n",
    "        if task_to_mark in self.tasks:\n",
    "            self.completed_tasks.add(task_to_mark)\n",
    "            del self.tasks[task_to_mark]\n",
    "            print(f\"'{task_to_mark}' has been marked as completed.\")\n",
    "        else:\n",
    "            print(f\"'{task_to_mark}' not found in the task list.\")\n",
    "\n",
    "    def display_pending_tasks(self):\n",
    "        if not self.tasks:\n",
    "            print(\"No pending tasks.\")\n",
    "        else:\n",
    "            print(\"Pending Tasks:\")\n",
    "            for task, due_date in self.tasks.items():\n",
    "                print(f\"{task} (Due: {due_date})\")\n",
    "\n",
    "    def display_completed_tasks(self):\n",
    "        if not self.completed_tasks:\n",
    "            print(\"No completed tasks.\")\n",
    "        else:\n",
    "            print(\"Completed Tasks:\")\n",
    "            for task in self.completed_tasks:\n",
    "                print(task)\n",
    "\n",
    "# Example usage:\n",
    "todo_list = TODO()\n",
    "\n",
    "while True:\n",
    "    choice = input(\"1. Add Task\\n2. Mark Task as Completed\\n3. Display Pending Tasks\\n4. Display Completed Tasks\\n5. Exit\\nEnter your choice: \")\n",
    "    \n",
    "    if choice == '1':\n",
    "        todo_list.add_task()\n",
    "    elif choice == '2':\n",
    "        todo_list.mark_task_as_completed()\n",
    "    elif choice == '3':\n",
    "        todo_list.display_pending_tasks()\n",
    "    elif choice == '4':\n",
    "        todo_list.display_completed_tasks()\n",
    "    elif choice == '5':\n",
    "        break\n",
    "    else:\n",
    "        print(\"Invalid choice. Please enter a valid option.\")\n",
    "\n",
    "        \n",
    "            \n",
    "                \n",
    "                \n",
    "        "
   ]
  },
  {
   "cell_type": "code",
   "execution_count": null,
   "id": "fa7ff11c",
   "metadata": {},
   "outputs": [],
   "source": []
  }
 ],
 "metadata": {
  "kernelspec": {
   "display_name": "Python 3 (ipykernel)",
   "language": "python",
   "name": "python3"
  },
  "language_info": {
   "codemirror_mode": {
    "name": "ipython",
    "version": 3
   },
   "file_extension": ".py",
   "mimetype": "text/x-python",
   "name": "python",
   "nbconvert_exporter": "python",
   "pygments_lexer": "ipython3",
   "version": "3.9.13"
  }
 },
 "nbformat": 4,
 "nbformat_minor": 5
}
